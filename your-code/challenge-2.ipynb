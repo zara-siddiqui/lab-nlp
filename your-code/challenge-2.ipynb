{
 "cells": [
  {
   "cell_type": "markdown",
   "metadata": {},
   "source": [
    "# Challenge 2: Sentiment Analysis\n",
    "\n",
    "In this challenge we will learn sentiment analysis and practice performing sentiment analysis on Twitter tweets. \n",
    "\n",
    "## Introduction\n",
    "\n",
    "Sentiment analysis is to *systematically identify, extract, quantify, and study affective states and subjective information* based on texts ([reference](https://en.wikipedia.org/wiki/Sentiment_analysis)). In simple words, it's to understand whether a person is happy or unhappy in producing the piece of text. Why we (or rather, companies) care about sentiment in texts? It's because by understanding the sentiments in texts, we will be able to know if our customers are happy or unhappy about our products and services. If they are unhappy, the subsequent action is to figure out what have caused the unhappiness and make improvements.\n",
    "\n",
    "Basic sentiment analysis only understands the *positive* or *negative* (sometimes *neutral* too) polarities of the sentiment. More advanced sentiment analysis will also consider dimensions such as agreement, subjectivity, confidence, irony, and so on. In this challenge we will conduct the basic positive vs negative sentiment analysis based on real Twitter tweets.\n",
    "\n",
    "NLTK comes with a [sentiment analysis package](https://www.nltk.org/api/nltk.sentiment.html). This package is great for dummies to perform sentiment analysis because it requires only the textual data to make predictions. For example:\n",
    "\n",
    "```python\n",
    ">>> from nltk.sentiment.vader import SentimentIntensityAnalyzer\n",
    ">>> txt = \"Ironhack is a Global Tech School ranked num 2 worldwide.  ",
    " ",
    "Our mission is to help people transform their careers and join a thriving community of tech professionals that love what they do.\"\n",
    ">>> analyzer = SentimentIntensityAnalyzer()\n",
    ">>> analyzer.polarity_scores(txt)\n",
    "{'neg': 0.0, 'neu': 0.741, 'pos': 0.259, 'compound': 0.8442}\n",
    "```\n",
    "\n",
    "In this challenge, however, you will not use NLTK's sentiment analysis package because in your Machine Learning training in the past 2 weeks you have learned how to make predictions more accurate than that. The [tweets data](https://www.kaggle.com/kazanova/sentiment140) we will be using today are already coded for the positive/negative sentiment. You will be able to use the Naïve Bayes classifier you learned in the lesson to predict the sentiment of tweets based on the labels."
   ]
  },
  {
   "cell_type": "markdown",
   "metadata": {},
   "source": [
    "## Conducting Sentiment Analysis\n",
    "\n",
    "### Loading and Exploring Data\n",
    "\n",
    "The dataset we'll be using today is located on Kaggle (https://www.kaggle.com/kazanova/sentiment140). Once you have downloaded and imported the dataset, it you will need to define the columns names: df.columns = ['target','id','date','flag','user','text']\n",
    "\n",
    "*Notes:* \n",
    "\n",
    "* The dataset is huuuuge (1.6m tweets). When you develop your data analysis codes, you can sample a subset of the data (e.g. 20k records) so that you will save a lot of time when you test your codes."
   ]
  },
  {
   "cell_type": "code",
   "execution_count": 2,
   "metadata": {
    "scrolled": true
   },
   "outputs": [
    {
     "name": "stderr",
     "output_type": "stream",
     "text": [
      "[nltk_data] Downloading package punkt to\n",
      "[nltk_data]     C:\\Users\\zaras\\AppData\\Roaming\\nltk_data...\n",
      "[nltk_data]   Package punkt is already up-to-date!\n",
      "[nltk_data] Downloading package wordnet to\n",
      "[nltk_data]     C:\\Users\\zaras\\AppData\\Roaming\\nltk_data...\n",
      "[nltk_data]   Package wordnet is already up-to-date!\n",
      "[nltk_data] Downloading package stopwords to\n",
      "[nltk_data]     C:\\Users\\zaras\\AppData\\Roaming\\nltk_data...\n",
      "[nltk_data]   Package stopwords is already up-to-date!\n"
     ]
    },
    {
     "data": {
      "text/plain": [
       "True"
      ]
     },
     "execution_count": 2,
     "metadata": {},
     "output_type": "execute_result"
    }
   ],
   "source": [
    "import pandas as pd\n",
    "import numpy as np\n",
    "\n",
    "import re\n",
    "import nltk\n",
    "from nltk.tokenize import word_tokenize\n",
    "\n",
    "nltk.download('punkt')\n",
    "nltk.download('wordnet')\n",
    "\n",
    "from nltk.stem import WordNetLemmatizer\n",
    "from nltk.stem import PorterStemmer \n",
    "\n",
    "from nltk.corpus import stopwords\n",
    "nltk.download('stopwords')"
   ]
  },
  {
   "cell_type": "code",
   "execution_count": 13,
   "metadata": {},
   "outputs": [
    {
     "data": {
      "text/html": [
       "<div>\n",
       "<style scoped>\n",
       "    .dataframe tbody tr th:only-of-type {\n",
       "        vertical-align: middle;\n",
       "    }\n",
       "\n",
       "    .dataframe tbody tr th {\n",
       "        vertical-align: top;\n",
       "    }\n",
       "\n",
       "    .dataframe thead th {\n",
       "        text-align: right;\n",
       "    }\n",
       "</style>\n",
       "<table border=\"1\" class=\"dataframe\">\n",
       "  <thead>\n",
       "    <tr style=\"text-align: right;\">\n",
       "      <th></th>\n",
       "      <th>0</th>\n",
       "      <th>1467810369</th>\n",
       "      <th>Mon Apr 06 22:19:45 PDT 2009</th>\n",
       "      <th>NO_QUERY</th>\n",
       "      <th>_TheSpecialOne_</th>\n",
       "      <th>@switchfoot http://twitpic.com/2y1zl - Awww, that's a bummer.  You shoulda got David Carr of Third Day to do it. ;D</th>\n",
       "    </tr>\n",
       "  </thead>\n",
       "  <tbody>\n",
       "    <tr>\n",
       "      <th>1192826</th>\n",
       "      <td>4</td>\n",
       "      <td>1984141216</td>\n",
       "      <td>Sun May 31 14:31:19 PDT 2009</td>\n",
       "      <td>NO_QUERY</td>\n",
       "      <td>CelaMaria</td>\n",
       "      <td>@esdi YOU ARE THE CHAMPION, MY FRIIIIEEEND! YO...</td>\n",
       "    </tr>\n",
       "    <tr>\n",
       "      <th>1334808</th>\n",
       "      <td>4</td>\n",
       "      <td>2016808029</td>\n",
       "      <td>Wed Jun 03 07:23:37 PDT 2009</td>\n",
       "      <td>NO_QUERY</td>\n",
       "      <td>KylieStarBleau</td>\n",
       "      <td>today is National Running Day! Make sure to do...</td>\n",
       "    </tr>\n",
       "    <tr>\n",
       "      <th>1424455</th>\n",
       "      <td>4</td>\n",
       "      <td>2058877322</td>\n",
       "      <td>Sat Jun 06 15:48:26 PDT 2009</td>\n",
       "      <td>NO_QUERY</td>\n",
       "      <td>SanaSkllngtn</td>\n",
       "      <td>@joeyasd adelphia is amazing, i can't wait for...</td>\n",
       "    </tr>\n",
       "    <tr>\n",
       "      <th>53653</th>\n",
       "      <td>0</td>\n",
       "      <td>1680694007</td>\n",
       "      <td>Sat May 02 12:16:40 PDT 2009</td>\n",
       "      <td>NO_QUERY</td>\n",
       "      <td>Kerry350</td>\n",
       "      <td>@carole29 bummer  we had to chuck the stuff in...</td>\n",
       "    </tr>\n",
       "    <tr>\n",
       "      <th>1536874</th>\n",
       "      <td>4</td>\n",
       "      <td>2179429937</td>\n",
       "      <td>Mon Jun 15 09:05:33 PDT 2009</td>\n",
       "      <td>NO_QUERY</td>\n",
       "      <td>MomovinxD</td>\n",
       "      <td>@pixieez I'm just bored  so i am twitting sinc...</td>\n",
       "    </tr>\n",
       "  </tbody>\n",
       "</table>\n",
       "</div>"
      ],
      "text/plain": [
       "         0  1467810369  Mon Apr 06 22:19:45 PDT 2009  NO_QUERY  \\\n",
       "1192826  4  1984141216  Sun May 31 14:31:19 PDT 2009  NO_QUERY   \n",
       "1334808  4  2016808029  Wed Jun 03 07:23:37 PDT 2009  NO_QUERY   \n",
       "1424455  4  2058877322  Sat Jun 06 15:48:26 PDT 2009  NO_QUERY   \n",
       "53653    0  1680694007  Sat May 02 12:16:40 PDT 2009  NO_QUERY   \n",
       "1536874  4  2179429937  Mon Jun 15 09:05:33 PDT 2009  NO_QUERY   \n",
       "\n",
       "        _TheSpecialOne_  \\\n",
       "1192826       CelaMaria   \n",
       "1334808  KylieStarBleau   \n",
       "1424455    SanaSkllngtn   \n",
       "53653          Kerry350   \n",
       "1536874       MomovinxD   \n",
       "\n",
       "        @switchfoot http://twitpic.com/2y1zl - Awww, that's a bummer.  You shoulda got David Carr of Third Day to do it. ;D  \n",
       "1192826  @esdi YOU ARE THE CHAMPION, MY FRIIIIEEEND! YO...                                                                   \n",
       "1334808  today is National Running Day! Make sure to do...                                                                   \n",
       "1424455  @joeyasd adelphia is amazing, i can't wait for...                                                                   \n",
       "53653    @carole29 bummer  we had to chuck the stuff in...                                                                   \n",
       "1536874  @pixieez I'm just bored  so i am twitting sinc...                                                                   "
      ]
     },
     "execution_count": 13,
     "metadata": {},
     "output_type": "execute_result"
    }
   ],
   "source": [
    "sentiment = pd.read_csv('sentiment.csv',encoding='latin-1')\n",
    "sample = sentiment.sample(n=20000, axis=0)\n",
    "sample.shape\n",
    "sample.head()"
   ]
  },
  {
   "cell_type": "code",
   "execution_count": 15,
   "metadata": {},
   "outputs": [
    {
     "data": {
      "text/html": [
       "<div>\n",
       "<style scoped>\n",
       "    .dataframe tbody tr th:only-of-type {\n",
       "        vertical-align: middle;\n",
       "    }\n",
       "\n",
       "    .dataframe tbody tr th {\n",
       "        vertical-align: top;\n",
       "    }\n",
       "\n",
       "    .dataframe thead th {\n",
       "        text-align: right;\n",
       "    }\n",
       "</style>\n",
       "<table border=\"1\" class=\"dataframe\">\n",
       "  <thead>\n",
       "    <tr style=\"text-align: right;\">\n",
       "      <th></th>\n",
       "      <th>target</th>\n",
       "      <th>id</th>\n",
       "      <th>date</th>\n",
       "      <th>flag</th>\n",
       "      <th>user</th>\n",
       "      <th>text</th>\n",
       "    </tr>\n",
       "  </thead>\n",
       "  <tbody>\n",
       "    <tr>\n",
       "      <th>1192826</th>\n",
       "      <td>4</td>\n",
       "      <td>1984141216</td>\n",
       "      <td>Sun May 31 14:31:19 PDT 2009</td>\n",
       "      <td>NO_QUERY</td>\n",
       "      <td>CelaMaria</td>\n",
       "      <td>@esdi YOU ARE THE CHAMPION, MY FRIIIIEEEND! YO...</td>\n",
       "    </tr>\n",
       "    <tr>\n",
       "      <th>1334808</th>\n",
       "      <td>4</td>\n",
       "      <td>2016808029</td>\n",
       "      <td>Wed Jun 03 07:23:37 PDT 2009</td>\n",
       "      <td>NO_QUERY</td>\n",
       "      <td>KylieStarBleau</td>\n",
       "      <td>today is National Running Day! Make sure to do...</td>\n",
       "    </tr>\n",
       "    <tr>\n",
       "      <th>1424455</th>\n",
       "      <td>4</td>\n",
       "      <td>2058877322</td>\n",
       "      <td>Sat Jun 06 15:48:26 PDT 2009</td>\n",
       "      <td>NO_QUERY</td>\n",
       "      <td>SanaSkllngtn</td>\n",
       "      <td>@joeyasd adelphia is amazing, i can't wait for...</td>\n",
       "    </tr>\n",
       "    <tr>\n",
       "      <th>53653</th>\n",
       "      <td>0</td>\n",
       "      <td>1680694007</td>\n",
       "      <td>Sat May 02 12:16:40 PDT 2009</td>\n",
       "      <td>NO_QUERY</td>\n",
       "      <td>Kerry350</td>\n",
       "      <td>@carole29 bummer  we had to chuck the stuff in...</td>\n",
       "    </tr>\n",
       "    <tr>\n",
       "      <th>1536874</th>\n",
       "      <td>4</td>\n",
       "      <td>2179429937</td>\n",
       "      <td>Mon Jun 15 09:05:33 PDT 2009</td>\n",
       "      <td>NO_QUERY</td>\n",
       "      <td>MomovinxD</td>\n",
       "      <td>@pixieez I'm just bored  so i am twitting sinc...</td>\n",
       "    </tr>\n",
       "    <tr>\n",
       "      <th>...</th>\n",
       "      <td>...</td>\n",
       "      <td>...</td>\n",
       "      <td>...</td>\n",
       "      <td>...</td>\n",
       "      <td>...</td>\n",
       "      <td>...</td>\n",
       "    </tr>\n",
       "    <tr>\n",
       "      <th>412540</th>\n",
       "      <td>0</td>\n",
       "      <td>2060378725</td>\n",
       "      <td>Sat Jun 06 18:47:41 PDT 2009</td>\n",
       "      <td>NO_QUERY</td>\n",
       "      <td>yolee9</td>\n",
       "      <td>@kathyyylee &amp;amp; @tiffmoosie I KNOW!!  it was...</td>\n",
       "    </tr>\n",
       "    <tr>\n",
       "      <th>293236</th>\n",
       "      <td>0</td>\n",
       "      <td>1996263641</td>\n",
       "      <td>Mon Jun 01 14:47:50 PDT 2009</td>\n",
       "      <td>NO_QUERY</td>\n",
       "      <td>jlosbon</td>\n",
       "      <td>[@ work 'til midnight] -- ahhh! No, no, no...I...</td>\n",
       "    </tr>\n",
       "    <tr>\n",
       "      <th>114417</th>\n",
       "      <td>0</td>\n",
       "      <td>1826279427</td>\n",
       "      <td>Sun May 17 08:07:45 PDT 2009</td>\n",
       "      <td>NO_QUERY</td>\n",
       "      <td>ValerieMM</td>\n",
       "      <td>Home today on this Sunday with nothing to do!</td>\n",
       "    </tr>\n",
       "    <tr>\n",
       "      <th>1201833</th>\n",
       "      <td>4</td>\n",
       "      <td>1985751336</td>\n",
       "      <td>Sun May 31 17:42:14 PDT 2009</td>\n",
       "      <td>NO_QUERY</td>\n",
       "      <td>Yo_lin</td>\n",
       "      <td>@DrShagwell: lol.. well one time u were going ...</td>\n",
       "    </tr>\n",
       "    <tr>\n",
       "      <th>399240</th>\n",
       "      <td>0</td>\n",
       "      <td>2057099833</td>\n",
       "      <td>Sat Jun 06 12:22:14 PDT 2009</td>\n",
       "      <td>NO_QUERY</td>\n",
       "      <td>shaunarawrr_x</td>\n",
       "      <td>@joejonas1876 help make #jbyoutubesuspended tr...</td>\n",
       "    </tr>\n",
       "  </tbody>\n",
       "</table>\n",
       "<p>20000 rows × 6 columns</p>\n",
       "</div>"
      ],
      "text/plain": [
       "         target          id                          date      flag  \\\n",
       "1192826       4  1984141216  Sun May 31 14:31:19 PDT 2009  NO_QUERY   \n",
       "1334808       4  2016808029  Wed Jun 03 07:23:37 PDT 2009  NO_QUERY   \n",
       "1424455       4  2058877322  Sat Jun 06 15:48:26 PDT 2009  NO_QUERY   \n",
       "53653         0  1680694007  Sat May 02 12:16:40 PDT 2009  NO_QUERY   \n",
       "1536874       4  2179429937  Mon Jun 15 09:05:33 PDT 2009  NO_QUERY   \n",
       "...         ...         ...                           ...       ...   \n",
       "412540        0  2060378725  Sat Jun 06 18:47:41 PDT 2009  NO_QUERY   \n",
       "293236        0  1996263641  Mon Jun 01 14:47:50 PDT 2009  NO_QUERY   \n",
       "114417        0  1826279427  Sun May 17 08:07:45 PDT 2009  NO_QUERY   \n",
       "1201833       4  1985751336  Sun May 31 17:42:14 PDT 2009  NO_QUERY   \n",
       "399240        0  2057099833  Sat Jun 06 12:22:14 PDT 2009  NO_QUERY   \n",
       "\n",
       "                   user                                               text  \n",
       "1192826       CelaMaria  @esdi YOU ARE THE CHAMPION, MY FRIIIIEEEND! YO...  \n",
       "1334808  KylieStarBleau  today is National Running Day! Make sure to do...  \n",
       "1424455    SanaSkllngtn  @joeyasd adelphia is amazing, i can't wait for...  \n",
       "53653          Kerry350  @carole29 bummer  we had to chuck the stuff in...  \n",
       "1536874       MomovinxD  @pixieez I'm just bored  so i am twitting sinc...  \n",
       "...                 ...                                                ...  \n",
       "412540           yolee9  @kathyyylee &amp; @tiffmoosie I KNOW!!  it was...  \n",
       "293236          jlosbon  [@ work 'til midnight] -- ahhh! No, no, no...I...  \n",
       "114417        ValerieMM     Home today on this Sunday with nothing to do!   \n",
       "1201833          Yo_lin  @DrShagwell: lol.. well one time u were going ...  \n",
       "399240    shaunarawrr_x  @joejonas1876 help make #jbyoutubesuspended tr...  \n",
       "\n",
       "[20000 rows x 6 columns]"
      ]
     },
     "execution_count": 15,
     "metadata": {},
     "output_type": "execute_result"
    }
   ],
   "source": [
    "sample.columns =['target','id','date','flag','user','text']\n",
    "sample"
   ]
  },
  {
   "cell_type": "code",
   "execution_count": null,
   "metadata": {},
   "outputs": [],
   "source": []
  },
  {
   "cell_type": "markdown",
   "metadata": {},
   "source": [
    "### Prepare Textual Data for Sentiment Analysis\n",
    "\n",
    "Now, apply the functions you have written in Challenge 1 to your whole data set. These functions include:\n",
    "\n",
    "* `clean_up()`\n",
    "\n",
    "* `tokenize()`\n",
    "\n",
    "* `stem_and_lemmatize()`\n",
    "\n",
    "* `remove_stopwords()`\n",
    "\n",
    "Create a new column called `text_processed` in the dataframe to contain the processed data. At the end, your `text_processed` column should contain lists of word tokens that are cleaned up. Your data should look like below:\n",
    "\n",
    "![Processed Data](data-cleaning-results.png)"
   ]
  },
  {
   "cell_type": "code",
   "execution_count": 16,
   "metadata": {},
   "outputs": [],
   "source": [
    "def clean_up(s):\n",
    "    s = re.sub(r'(?i)\\b((?:https?://|www\\d{0,3}[.]|[a-z0-9.\\-]+[.][a-z]{2,4}/)(?:[^\\s()<>]+|\\(([^\\s()<>]+|(\\([^\\s()<>]+\\)))*\\))+(?:\\(([^\\s()<>]+|(\\([^\\s()<>]+\\)))*\\)|[^\\s`!()\\[\\]{};:\\'\".,<>?«»“”‘’]))', ' ', s)\n",
    "    s = s.translate ({ord(c): \" \" for c in \"\"\"!@#$%^&*()[]{}'\";:,./<>?\\|`-~=_+\"\"\"})\n",
    "    s = re.sub('\\d+',' ',s)\n",
    "    s = s.lower()\n",
    "\n",
    "    return s"
   ]
  },
  {
   "cell_type": "code",
   "execution_count": 17,
   "metadata": {},
   "outputs": [],
   "source": [
    "def tokenize(s):\n",
    "    tokens = word_tokenize(s)\n",
    "    return tokens"
   ]
  },
  {
   "cell_type": "code",
   "execution_count": 18,
   "metadata": {},
   "outputs": [],
   "source": [
    "def stem_and_lemmatize(l):\n",
    "    l_stem_lem = []\n",
    "    ps = PorterStemmer() \n",
    "    lm = WordNetLemmatizer()\n",
    "    for w in l: \n",
    "        w=ps.stem(w)\n",
    "        w=lm.lemmatize(w)\n",
    "        l_stem_lem.append(w)\n",
    "    return l_stem_lem"
   ]
  },
  {
   "cell_type": "code",
   "execution_count": 19,
   "metadata": {},
   "outputs": [],
   "source": [
    "def remove_stopwords(l):\n",
    "    stop_words = set(stopwords.words('english')) \n",
    "    return [word for word in l if word not in stop_words]"
   ]
  },
  {
   "cell_type": "code",
   "execution_count": 22,
   "metadata": {},
   "outputs": [
    {
     "data": {
      "text/html": [
       "<div>\n",
       "<style scoped>\n",
       "    .dataframe tbody tr th:only-of-type {\n",
       "        vertical-align: middle;\n",
       "    }\n",
       "\n",
       "    .dataframe tbody tr th {\n",
       "        vertical-align: top;\n",
       "    }\n",
       "\n",
       "    .dataframe thead th {\n",
       "        text-align: right;\n",
       "    }\n",
       "</style>\n",
       "<table border=\"1\" class=\"dataframe\">\n",
       "  <thead>\n",
       "    <tr style=\"text-align: right;\">\n",
       "      <th></th>\n",
       "      <th>target</th>\n",
       "      <th>id</th>\n",
       "      <th>date</th>\n",
       "      <th>flag</th>\n",
       "      <th>user</th>\n",
       "      <th>text</th>\n",
       "      <th>text_processed</th>\n",
       "    </tr>\n",
       "  </thead>\n",
       "  <tbody>\n",
       "    <tr>\n",
       "      <th>1192826</th>\n",
       "      <td>4</td>\n",
       "      <td>1984141216</td>\n",
       "      <td>Sun May 31 14:31:19 PDT 2009</td>\n",
       "      <td>NO_QUERY</td>\n",
       "      <td>CelaMaria</td>\n",
       "      <td>@esdi YOU ARE THE CHAMPION, MY FRIIIIEEEND! YO...</td>\n",
       "      <td>[esdi, champion, friiiieeend, keep, fiiiiight,...</td>\n",
       "    </tr>\n",
       "    <tr>\n",
       "      <th>1334808</th>\n",
       "      <td>4</td>\n",
       "      <td>2016808029</td>\n",
       "      <td>Wed Jun 03 07:23:37 PDT 2009</td>\n",
       "      <td>NO_QUERY</td>\n",
       "      <td>KylieStarBleau</td>\n",
       "      <td>today is National Running Day! Make sure to do...</td>\n",
       "      <td>[today, nation, run, day, make, sure, someth, ...</td>\n",
       "    </tr>\n",
       "    <tr>\n",
       "      <th>1424455</th>\n",
       "      <td>4</td>\n",
       "      <td>2058877322</td>\n",
       "      <td>Sat Jun 06 15:48:26 PDT 2009</td>\n",
       "      <td>NO_QUERY</td>\n",
       "      <td>SanaSkllngtn</td>\n",
       "      <td>@joeyasd adelphia is amazing, i can't wait for...</td>\n",
       "      <td>[joeyasd, adelphia, amaz, wait, tuesday, go, buy]</td>\n",
       "    </tr>\n",
       "    <tr>\n",
       "      <th>53653</th>\n",
       "      <td>0</td>\n",
       "      <td>1680694007</td>\n",
       "      <td>Sat May 02 12:16:40 PDT 2009</td>\n",
       "      <td>NO_QUERY</td>\n",
       "      <td>Kerry350</td>\n",
       "      <td>@carole29 bummer  we had to chuck the stuff in...</td>\n",
       "      <td>[carol, bummer, chuck, stuff, hous, tempt, whi...</td>\n",
       "    </tr>\n",
       "    <tr>\n",
       "      <th>1536874</th>\n",
       "      <td>4</td>\n",
       "      <td>2179429937</td>\n",
       "      <td>Mon Jun 15 09:05:33 PDT 2009</td>\n",
       "      <td>NO_QUERY</td>\n",
       "      <td>MomovinxD</td>\n",
       "      <td>@pixieez I'm just bored  so i am twitting sinc...</td>\n",
       "      <td>[pixieez, bore, twit, sinc, got, nth, also, du...</td>\n",
       "    </tr>\n",
       "  </tbody>\n",
       "</table>\n",
       "</div>"
      ],
      "text/plain": [
       "         target          id                          date      flag  \\\n",
       "1192826       4  1984141216  Sun May 31 14:31:19 PDT 2009  NO_QUERY   \n",
       "1334808       4  2016808029  Wed Jun 03 07:23:37 PDT 2009  NO_QUERY   \n",
       "1424455       4  2058877322  Sat Jun 06 15:48:26 PDT 2009  NO_QUERY   \n",
       "53653         0  1680694007  Sat May 02 12:16:40 PDT 2009  NO_QUERY   \n",
       "1536874       4  2179429937  Mon Jun 15 09:05:33 PDT 2009  NO_QUERY   \n",
       "\n",
       "                   user                                               text  \\\n",
       "1192826       CelaMaria  @esdi YOU ARE THE CHAMPION, MY FRIIIIEEEND! YO...   \n",
       "1334808  KylieStarBleau  today is National Running Day! Make sure to do...   \n",
       "1424455    SanaSkllngtn  @joeyasd adelphia is amazing, i can't wait for...   \n",
       "53653          Kerry350  @carole29 bummer  we had to chuck the stuff in...   \n",
       "1536874       MomovinxD  @pixieez I'm just bored  so i am twitting sinc...   \n",
       "\n",
       "                                            text_processed  \n",
       "1192826  [esdi, champion, friiiieeend, keep, fiiiiight,...  \n",
       "1334808  [today, nation, run, day, make, sure, someth, ...  \n",
       "1424455  [joeyasd, adelphia, amaz, wait, tuesday, go, buy]  \n",
       "53653    [carol, bummer, chuck, stuff, hous, tempt, whi...  \n",
       "1536874  [pixieez, bore, twit, sinc, got, nth, also, du...  "
      ]
     },
     "execution_count": 22,
     "metadata": {},
     "output_type": "execute_result"
    }
   ],
   "source": [
    "sample[\"text_processed\"]=sample[\"text\"].apply(clean_up)\n",
    "sample[\"text_processed\"]=sample[\"text_processed\"].apply(tokenize)\n",
    "sample[\"text_processed\"]=sample[\"text_processed\"].apply(stem_and_lemmatize)\n",
    "sample[\"text_processed\"]=sample[\"text_processed\"].apply(remove_stopwords)\n",
    "\n",
    "sample.head()"
   ]
  },
  {
   "cell_type": "markdown",
   "metadata": {},
   "source": [
    "### Creating Bag of Words\n",
    "\n",
    "The purpose of this step is to create a [bag of words](https://en.wikipedia.org/wiki/Bag-of-words_model) from the processed data. The bag of words contains all the unique words in your whole text body (a.k.a. *corpus*) with the number of occurrence of each word. It will allow you to understand which words are the most important features across the whole corpus.\n",
    "\n",
    "Also, you can imagine you will have a massive set of words. The less important words (i.e. those of very low number of occurrence) do not contribute much to the sentiment. Therefore, you only need to use the most important words to build your feature set in the next step. In our case, we will use the top 5,000 words with the highest frequency to build the features.\n",
    "\n",
    "In the cell below, combine all the words in `text_processed` and calculate the frequency distribution of all words. A convenient library to calculate the term frequency distribution is NLTK's `FreqDist` class ([documentation](https://www.nltk.org/api/nltk.html#module-nltk.probability)). Then select the top 5,000 words from the frequency distribution."
   ]
  },
  {
   "cell_type": "code",
   "execution_count": 23,
   "metadata": {},
   "outputs": [],
   "source": [
    "from nltk.probability import FreqDist"
   ]
  },
  {
   "cell_type": "code",
   "execution_count": 24,
   "metadata": {},
   "outputs": [],
   "source": [
    "list_of_words = sample[\"text_processed\"].tolist()\n",
    "list_of_words\n",
    "\n",
    "bag = []\n",
    "for lists in list_of_words:\n",
    "    for word in lists:\n",
    "        bag.append(word)\n",
    "\n",
    "freq_dist = FreqDist(bag)\n",
    "top_5000 = freq_dist.most_common(5000)"
   ]
  },
  {
   "cell_type": "code",
   "execution_count": 25,
   "metadata": {},
   "outputs": [],
   "source": [
    "word_features, freq = [[x for x,y in top_5000],\n",
    "      [y for x,y in top_5000]]"
   ]
  },
  {
   "cell_type": "markdown",
   "metadata": {},
   "source": [
    "### Building Features\n",
    "\n",
    "Now let's build the features. Using the top 5,000 words, create a 2-dimensional matrix to record whether each of those words is contained in each document (tweet). Then you also have an output column to indicate whether the sentiment in each tweet is positive. For example, assuming your bag of words has 5 items (`['one', 'two', 'three', 'four', 'five']`) out of 4 documents (`['A', 'B', 'C', 'D']`), your feature set is essentially:\n",
    "\n",
    "| Doc | one | two | three | four | five | is_positive |\n",
    "|---|---|---|---|---|---|---|\n",
    "| A | True | False | False | True | False | True |\n",
    "| B | False | False | False | True | True | False |\n",
    "| C | False | True | False | False | False | True |\n",
    "| D | True | False | False | False | True | False|\n",
    "\n",
    "However, because the `nltk.NaiveBayesClassifier.train` class we will use in the next step does not work with Pandas dataframe, the structure of your feature set should be converted to the Python list looking like below:\n",
    "\n",
    "```python\n",
    "[\n",
    "\t({\n",
    "\t\t'one': True,\n",
    "\t\t'two': False,\n",
    "\t\t'three': False,\n",
    "\t\t'four': True,\n",
    "\t\t'five': False\n",
    "\t}, True),\n",
    "\t({\n",
    "\t\t'one': False,\n",
    "\t\t'two': False,\n",
    "\t\t'three': False,\n",
    "\t\t'four': True,\n",
    "\t\t'five': True\n",
    "\t}, False),\n",
    "\t({\n",
    "\t\t'one': False,\n",
    "\t\t'two': True,\n",
    "\t\t'three': False,\n",
    "\t\t'four': False,\n",
    "\t\t'five': False\n",
    "\t}, True),\n",
    "\t({\n",
    "\t\t'one': True,\n",
    "\t\t'two': False,\n",
    "\t\t'three': False,\n",
    "\t\t'four': False,\n",
    "\t\t'five': True\n",
    "\t}, False)\n",
    "]\n",
    "```\n",
    "\n",
    "To help you in this step, watch the [following video](https://www.youtube.com/watch?v=-vVskDsHcVc) to learn how to build the feature set with Python and NLTK. The source code in this video can be found [here](https://pythonprogramming.net/words-as-features-nltk-tutorial/)."
   ]
  },
  {
   "cell_type": "markdown",
   "metadata": {},
   "source": [
    "[![Building Features](building-features.jpg)](https://www.youtube.com/watch?v=-vVskDsHcVc)"
   ]
  },
  {
   "cell_type": "code",
   "execution_count": null,
   "metadata": {},
   "outputs": [],
   "source": [
    "def find_features(lst, bag):\n",
    "    word_features=list(bag)\n",
    "    words = set(lst)\n",
    "    features = {}\n",
    "    for w in word_features:\n",
    "        features[w] = (w in words)\n",
    "    return features\n",
    "\n",
    "word_features\n",
    "features=[]\n",
    "for i,l in enumerate(sample[\"text_processed\"]):\n",
    "    s=[find_features(l,bag),sample[\"target\"].iloc[i]]\n",
    "    z=tuple(s)\n",
    "    features.append(z)\n",
    "len(features)"
   ]
  },
  {
   "cell_type": "markdown",
   "metadata": {},
   "source": [
    "### Building and Traininng Naive Bayes Model\n",
    "\n",
    "In this step you will split your feature set into a training and a test set. Then you will create a Bayes classifier instance using `nltk.NaiveBayesClassifier.train` ([example](https://www.nltk.org/book/ch06.html)) to train with the training dataset.\n",
    "\n",
    "After training the model, call `classifier.show_most_informative_features()` to inspect the most important features. The output will look like:\n",
    "\n",
    "```\n",
    "Most Informative Features\n",
    "\t    snow = True            False : True   =     34.3 : 1.0\n",
    "\t  easter = True            False : True   =     26.2 : 1.0\n",
    "\t headach = True            False : True   =     20.9 : 1.0\n",
    "\t    argh = True            False : True   =     17.6 : 1.0\n",
    "\tunfortun = True            False : True   =     16.9 : 1.0\n",
    "\t    jona = True             True : False  =     16.2 : 1.0\n",
    "\t     ach = True            False : True   =     14.9 : 1.0\n",
    "\t     sad = True            False : True   =     13.0 : 1.0\n",
    "\t  parent = True            False : True   =     12.9 : 1.0\n",
    "\t  spring = True            False : True   =     12.7 : 1.0\n",
    "```\n",
    "\n",
    "The [following video](https://www.youtube.com/watch?v=rISOsUaTrO4) will help you complete this step. The source code in this video can be found [here](https://pythonprogramming.net/naive-bayes-classifier-nltk-tutorial/)."
   ]
  },
  {
   "cell_type": "markdown",
   "metadata": {},
   "source": [
    "[![Building and Training NB](nb-model-building.jpg)](https://www.youtube.com/watch?v=rISOsUaTrO4)"
   ]
  },
  {
   "cell_type": "code",
   "execution_count": 27,
   "metadata": {},
   "outputs": [],
   "source": [
    "train_set, test_set = features[5000:], features[:5000]"
   ]
  },
  {
   "cell_type": "code",
   "execution_count": null,
   "metadata": {},
   "outputs": [],
   "source": [
    "classifier = nltk.NaiveBayesClassifier.train(train_set)"
   ]
  },
  {
   "cell_type": "code",
   "execution_count": null,
   "metadata": {},
   "outputs": [],
   "source": [
    "classifier.show_most_informative_features()"
   ]
  },
  {
   "cell_type": "markdown",
   "metadata": {},
   "source": [
    "### Testing Naive Bayes Model\n",
    "\n",
    "Now we'll test our classifier with the test dataset. This is done by calling `nltk.classify.accuracy(classifier, test)`.\n",
    "\n",
    "As mentioned in one of the tutorial videos, a Naive Bayes model is considered OK if your accuracy score is over 0.6. If your accuracy score is over 0.7, you've done a great job!"
   ]
  },
  {
   "cell_type": "code",
   "execution_count": null,
   "metadata": {},
   "outputs": [],
   "source": [
    "nltk.classify.accuracy(classifier, test_set)"
   ]
  },
  {
   "cell_type": "markdown",
   "metadata": {},
   "source": [
    "## Bonus Question 1: Improve Model Performance\n",
    "\n",
    "If you are still not exhausted so far and want to dig deeper, try to improve your classifier performance. There are many aspects you can dig into, for example:\n",
    "\n",
    "* Improve stemming and lemmatization. Inspect your bag of words and the most important features. Are there any words you should furuther remove from analysis? You can append these words to further remove to the stop words list.\n",
    "\n",
    "* Remember we only used the top 5,000 features to build model? Try using different numbers of top features. The bottom line is to use as few features as you can without compromising your model performance. The fewer features you select into your model, the faster your model is trained. Then you can use a larger sample size to improve your model accuracy score."
   ]
  },
  {
   "cell_type": "code",
   "execution_count": null,
   "metadata": {},
   "outputs": [],
   "source": [
    "# your code here"
   ]
  },
  {
   "cell_type": "markdown",
   "metadata": {},
   "source": [
    "## Bonus Question 2: Machine Learning Pipeline\n",
    "\n",
    "In a new Jupyter Notebook, combine all your codes into a function (or a class). Your new function will execute the complete machine learning pipeline job by receiving the dataset location and output the classifier. This will allow you to use your function to predict the sentiment of any tweet in real time. "
   ]
  },
  {
   "cell_type": "code",
   "execution_count": null,
   "metadata": {},
   "outputs": [],
   "source": [
    "# your code here"
   ]
  },
  {
   "cell_type": "markdown",
   "metadata": {},
   "source": [
    "## Bonus Question 3: Apache Spark\n",
    "\n",
    "If you have completed the Apache Spark advanced topic lab, what you can do is to migrate your pipeline from local to a Databricks Notebook. Share your notebook with your instructor and classmates to show off your achievements!"
   ]
  },
  {
   "cell_type": "code",
   "execution_count": null,
   "metadata": {},
   "outputs": [],
   "source": [
    "# your code here"
   ]
  }
 ],
 "metadata": {
  "kernelspec": {
   "display_name": "Python 3 (ipykernel)",
   "language": "python",
   "name": "python3"
  },
  "language_info": {
   "codemirror_mode": {
    "name": "ipython",
    "version": 3
   },
   "file_extension": ".py",
   "mimetype": "text/x-python",
   "name": "python",
   "nbconvert_exporter": "python",
   "pygments_lexer": "ipython3",
   "version": "3.11.5"
  }
 },
 "nbformat": 4,
 "nbformat_minor": 2
}
